{
 "cells": [
  {
   "cell_type": "code",
   "execution_count": 1,
   "metadata": {},
   "outputs": [
    {
     "name": "stdout",
     "output_type": "stream",
     "text": [
      "             State         Capital                  Nickname\n",
      "0          Alabama      Montgomery    The Yellowhammer State\n",
      "1           Alaska          Juneau         The Last Frontier\n",
      "2          Arizona         Phoenix    The Grand Canyon State\n",
      "3         Arkansas     Little Rock         The Natural State\n",
      "4       California      Sacramento          The Golden State\n",
      "5         Colorado          Denver      The Centennial State\n",
      "6      Connecticut        Hartford    The Constitution State\n",
      "7         Delaware           Dover           The First State\n",
      "8          Florida     Tallahassee        The Sunshine State\n",
      "9          Georgia         Atlanta           The Peach State\n",
      "10          Hawaii        Honolulu           The Aloha State\n",
      "11           Idaho           Boise             The Gem State\n",
      "12        Illinois     Springfield           Land of Lincoln\n",
      "13         Indiana    Indianapolis         The Hoosier State\n",
      "14            Iowa      Des Moines         The Hawkeye State\n",
      "15          Kansas          Topeka       The Sunflower State\n",
      "16        Kentucky       Frankfort       The Bluegrass State\n",
      "17       Louisiana     Baton Rouge         The Pelican State\n",
      "18           Maine         Augusta       The Pine Tree State\n",
      "19        Maryland       Annapolis        The Old Line State\n",
      "20   Massachusetts          Boston             The Bay State\n",
      "21        Michigan         Lansing     The Great Lakes State\n",
      "22       Minnesota      Saint Paul      The North Star State\n",
      "23     Mississippi         Jackson        The Magnolia State\n",
      "24        Missouri  Jefferson City         The Show Me State\n",
      "25         Montana          Helena        The Treasure State\n",
      "26        Nebraska         Lincoln      The Cornhusker State\n",
      "27          Nevada     Carson City          The Silver State\n",
      "28   New Hampshire         Concord         The Granite State\n",
      "29      New Jersey         Trenton          The Garden State\n",
      "30      New Mexico        Santa Fe   The Land of Enchantment\n",
      "31        New York          Albany          The Empire State\n",
      "32  North Carolina         Raleigh        The Tar Heel State\n",
      "33    North Dakota        Bismarck    The Peace Garden State\n",
      "34            Ohio        Columbus         The Buckeye State\n",
      "35        Oklahoma   Oklahoma City          The Sooner State\n",
      "36          Oregon           Salem          The Beaver State\n",
      "37    Pennsylvania      Harrisburg        The Keystone State\n",
      "38    Rhode Island      Providence           The Ocean State\n",
      "39  South Carolina        Columbia        The Palmetto State\n",
      "40    South Dakota          Pierre      Mount Rushmore State\n",
      "41       Tennessee       Nashville       The Volunteer State\n",
      "42           Texas          Austin       The Lone Star State\n",
      "43            Utah  Salt Lake City         The Beehive State\n",
      "44         Vermont      Montpelier  The Green Mountain State\n",
      "45        Virginia        Richmond    The Old Dominion State\n",
      "46      Washington         Olympia       The Evergreen State\n",
      "47   West Virginia      Charleston        The Mountain State\n",
      "48       Wisconsin         Madison          The Badger State\n",
      "49         Wyoming        Cheyenne        The Equality State\n"
     ]
    }
   ],
   "source": [
    "import quandl\n",
    "import pandas as pd\n",
    "titani_train = pd.read_html('http://www.theus50.com/fastfacts/capital.php')\n",
    "\n",
    "print(titani_train[0])"
   ]
  },
  {
   "cell_type": "code",
   "execution_count": null,
   "metadata": {
    "collapsed": true
   },
   "outputs": [],
   "source": []
  }
 ],
 "metadata": {
  "kernelspec": {
   "display_name": "Python 3",
   "language": "python",
   "name": "python3"
  },
  "language_info": {
   "codemirror_mode": {
    "name": "ipython",
    "version": 3
   },
   "file_extension": ".py",
   "mimetype": "text/x-python",
   "name": "python",
   "nbconvert_exporter": "python",
   "pygments_lexer": "ipython3",
   "version": "3.6.4"
  }
 },
 "nbformat": 4,
 "nbformat_minor": 2
}
